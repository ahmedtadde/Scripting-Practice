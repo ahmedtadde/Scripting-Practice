{
 "cells": [
  {
   "cell_type": "code",
   "execution_count": 4,
   "metadata": {},
   "outputs": [
    {
     "data": {
      "text/plain": [
       "[\"It's twelve  am\",\n",
       " \"It's one thirty am\",\n",
       " \"It's twelve oh five pm\",\n",
       " \"It's two oh one pm\",\n",
       " \"It's eight tweenty nine pm\",\n",
       " \"It's nine  pm\"]"
      ]
     },
     "execution_count": 4,
     "metadata": {},
     "output_type": "execute_result"
    }
   ],
   "source": [
    "Mapper = {\n",
    "    \n",
    "    0:'twelve', \n",
    "    1:'one',\n",
    "    2:'two',\n",
    "    3:'three',\n",
    "    4:'four',\n",
    "    5: 'five',\n",
    "    6: 'six',\n",
    "    7: 'seven',\n",
    "    8: 'eight',\n",
    "    9: 'nine',\n",
    "    10: 'ten',\n",
    "    11: 'eleven',\n",
    "    12: 'twelve',\n",
    "    13: 'thirteen',\n",
    "    14: 'fourteen',\n",
    "    15: 'fifthteen',\n",
    "    16: 'sixteen',\n",
    "    17: 'seventeen',\n",
    "    18: 'eighteen',\n",
    "    19: 'nineteen',\n",
    "    20: 'tweenty',\n",
    "    30: 'thirty',\n",
    "    40: 'forty',\n",
    "    50: 'fifty'\n",
    "}\n",
    "\n",
    "\n",
    "def readMinutes(value):\n",
    "    if value == 0 : return ''\n",
    "    if value < 10: return 'oh '+ Mapper[value]\n",
    "    if value > 10 and value < 20: return Mapper[value]\n",
    "    if value % 10  == 0: return Mapper[value]\n",
    "    \n",
    "    x, y = divmod(value,10)\n",
    "    return Mapper[10*x] + ' ' + Mapper[y]\n",
    "    \n",
    "\n",
    "def AmOrPm(value):\n",
    "    if value%12 == value: return 'am'\n",
    "    return 'pm'\n",
    "    \n",
    "def speech(time):\n",
    "    if (':' not in time): return 'Not a valid time input; required format is [hour]:[minutes]'\n",
    "    hour, minute = map(int, time.split(':'))\n",
    "    return \"It's \"+ Mapper[hour%12] +' '+ readMinutes(minute) + ' '+ str(AmOrPm(hour))\n",
    "\n",
    "\n",
    "def translate(Input):\n",
    "    if type(Input) is list:\n",
    "        return map(speech, Input)\n",
    "    elif(type(Input) is str):\n",
    "        return speech(Input)\n",
    "    else:\n",
    "        return 'Invalid Input; must be a list of time strings or a single time string (\":\" included)'\n",
    "        \n",
    "\n",
    "        \n",
    "translate(sample)"
   ]
  }
 ],
 "metadata": {
  "kernelspec": {
   "display_name": "Python 2",
   "language": "python",
   "name": "python2"
  },
  "language_info": {
   "codemirror_mode": {
    "name": "ipython",
    "version": 2
   },
   "file_extension": ".py",
   "mimetype": "text/x-python",
   "name": "python",
   "nbconvert_exporter": "python",
   "pygments_lexer": "ipython2",
   "version": "2.7.13"
  }
 },
 "nbformat": 4,
 "nbformat_minor": 2
}
