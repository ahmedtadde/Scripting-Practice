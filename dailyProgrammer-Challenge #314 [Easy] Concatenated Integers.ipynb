{
 "cells": [
  {
   "cell_type": "code",
   "execution_count": 1,
   "metadata": {},
   "outputs": [],
   "source": [
    "    from itertools import permutations\n",
    "    import numpy as np\n",
    "\n",
    "    def outPut(inputNumbers):\n",
    "\n",
    "        numbers = inputNumbers.split(\" \")\n",
    "        joinedNumbers = \"\".join(numbers)\n",
    "\n",
    "        Permutations = map(lambda x : \"\".join(x), permutations(joinedNumbers, len(joinedNumbers)))\n",
    "\n",
    "        usefulPermutations = map(int, filter(lambda x : all([(number in x)  for number in numbers]), Permutations))\n",
    "\n",
    "        print str(np.min(usefulPermutations))+ \" \" + str(np.max(usefulPermutations))"
   ]
  }
 ],
 "metadata": {
  "kernelspec": {
   "display_name": "Python 2",
   "language": "python",
   "name": "python2"
  },
  "language_info": {
   "codemirror_mode": {
    "name": "ipython",
    "version": 2
   },
   "file_extension": ".py",
   "mimetype": "text/x-python",
   "name": "python",
   "nbconvert_exporter": "python",
   "pygments_lexer": "ipython2",
   "version": "2.7.13"
  }
 },
 "nbformat": 4,
 "nbformat_minor": 2
}
